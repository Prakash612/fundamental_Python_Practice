{
 "cells": [
  {
   "cell_type": "code",
   "execution_count": 2,
   "metadata": {},
   "outputs": [
    {
     "name": "stdout",
     "output_type": "stream",
     "text": [
      "['hero', 'ducati', 'suzuki', 'yamaha']\n",
      "['hero', 'ducati', 'suzuki', 'Bajaj']\n"
     ]
    }
   ],
   "source": [
    "#Modifying Elements in a List\n",
    "\n",
    "motorcycle=['hero','ducati','suzuki','yamaha']\n",
    "print(motorcycle)\n",
    "motorcycle[3]='Bajaj'\n",
    "print(motorcycle)"
   ]
  },
  {
   "cell_type": "code",
   "execution_count": 3,
   "metadata": {},
   "outputs": [
    {
     "data": {
      "text/plain": [
       "['hero', 'ducati', 'suzuki', 'Bajaj']"
      ]
     },
     "execution_count": 3,
     "metadata": {},
     "output_type": "execute_result"
    }
   ],
   "source": [
    "# Adding elements into list\n",
    "motorcycle"
   ]
  },
  {
   "cell_type": "code",
   "execution_count": 4,
   "metadata": {},
   "outputs": [
    {
     "data": {
      "text/plain": [
       "['hero', 'ducati', 'suzuki', 'Bajaj', 'Harley Davidson']"
      ]
     },
     "execution_count": 4,
     "metadata": {},
     "output_type": "execute_result"
    }
   ],
   "source": [
    "motorcycle.append('Harley Davidson')\n",
    "motorcycle\n"
   ]
  },
  {
   "cell_type": "code",
   "execution_count": 5,
   "metadata": {},
   "outputs": [
    {
     "data": {
      "text/plain": [
       "['hero', 'ducati', 'suzuki', 'Bajaj', 'Honda', 'Harley Davidson']"
      ]
     },
     "execution_count": 5,
     "metadata": {},
     "output_type": "execute_result"
    }
   ],
   "source": [
    "# add the itoms into the list by index position wise\n",
    "motorcycle.insert(4,'Honda')\n",
    "motorcycle"
   ]
  },
  {
   "cell_type": "code",
   "execution_count": 6,
   "metadata": {},
   "outputs": [
    {
     "name": "stdout",
     "output_type": "stream",
     "text": [
      "['hero', 'ducati', 'suzuki', 'Kawasaki', 'Bajaj', 'Honda', 'Harley Davidson']\n"
     ]
    }
   ],
   "source": [
    "motorcycle.insert(-3,'Kawasaki')\n",
    "print(motorcycle)"
   ]
  },
  {
   "cell_type": "code",
   "execution_count": 16,
   "metadata": {},
   "outputs": [
    {
     "name": "stdout",
     "output_type": "stream",
     "text": [
      "['Prakash', 'Ravi', 'Amit', 'Uttam', 'Mahesh']\n"
     ]
    }
   ],
   "source": [
    "fundamental_Python=[]\n",
    "fundamental_Python.append('Prakash')\n",
    "fundamental_Python.append('Ravi')\n",
    "fundamental_Python.append('Amit')\n",
    "fundamental_Python.append('Uttam')\n",
    "fundamental_Python.append('Mahesh')\n",
    "print(fundamental_Python)"
   ]
  },
  {
   "cell_type": "code",
   "execution_count": 14,
   "metadata": {},
   "outputs": [
    {
     "name": "stdout",
     "output_type": "stream",
     "text": [
      "['Prakash', 'Ravi']\n"
     ]
    }
   ],
   "source": [
    "fundamental_Python.remove('Mahesh')\n",
    "print(fundamental_Python)"
   ]
  },
  {
   "cell_type": "code",
   "execution_count": 17,
   "metadata": {},
   "outputs": [
    {
     "data": {
      "text/plain": [
       "['Prakash', 'Ravi', 'Amit', 'Uttam', 'Mahesh']"
      ]
     },
     "execution_count": 17,
     "metadata": {},
     "output_type": "execute_result"
    }
   ],
   "source": [
    "fundamental_Python"
   ]
  },
  {
   "cell_type": "code",
   "execution_count": 18,
   "metadata": {},
   "outputs": [
    {
     "data": {
      "text/plain": [
       "['Prakash', 'Ravi', 'Uttam', 'Mahesh']"
      ]
     },
     "execution_count": 18,
     "metadata": {},
     "output_type": "execute_result"
    }
   ],
   "source": [
    "del fundamental_Python[2]\n",
    "fundamental_Python"
   ]
  },
  {
   "cell_type": "code",
   "execution_count": 19,
   "metadata": {},
   "outputs": [
    {
     "data": {
      "text/plain": [
       "'Mahesh'"
      ]
     },
     "execution_count": 19,
     "metadata": {},
     "output_type": "execute_result"
    }
   ],
   "source": [
    "fundamental_Python.pop() # It will remove the last element from list"
   ]
  },
  {
   "cell_type": "code",
   "execution_count": 24,
   "metadata": {},
   "outputs": [
    {
     "name": "stdout",
     "output_type": "stream",
     "text": [
      "['Prakash', 'Ravi', 'Uttam']\n"
     ]
    }
   ],
   "source": [
    "print(fundamental_Python)"
   ]
  },
  {
   "cell_type": "code",
   "execution_count": 33,
   "metadata": {},
   "outputs": [
    {
     "name": "stdout",
     "output_type": "stream",
     "text": [
      "['Maruti', 'Landsover', 'Bmw', 'Toyeta', 'Benz', 'Audi']\n",
      "['Audi', 'Benz', 'Bmw', 'Landsover', 'Maruti', 'Toyeta']\n"
     ]
    }
   ],
   "source": [
    "cars=['Maruti','Landsover','Bmw','Toyeta','Benz','Audi']\n",
    "print(cars)\n",
    "cars.sort()\n",
    "print(cars)"
   ]
  },
  {
   "cell_type": "code",
   "execution_count": 34,
   "metadata": {},
   "outputs": [
    {
     "name": "stdout",
     "output_type": "stream",
     "text": [
      "['Audi', 'Benz', 'Bmw', 'Landsover', 'Maruti', 'Toyeta']\n"
     ]
    }
   ],
   "source": [
    "cars.sort()\n",
    "print(cars)"
   ]
  },
  {
   "cell_type": "code",
   "execution_count": 35,
   "metadata": {},
   "outputs": [
    {
     "data": {
      "text/plain": [
       "['Audi', 'Benz', 'Bmw', 'Landsover', 'Maruti', 'Toyeta']"
      ]
     },
     "execution_count": 35,
     "metadata": {},
     "output_type": "execute_result"
    }
   ],
   "source": [
    "cars"
   ]
  },
  {
   "cell_type": "code",
   "execution_count": 41,
   "metadata": {},
   "outputs": [
    {
     "name": "stdout",
     "output_type": "stream",
     "text": [
      "here is the OrigionL list\n",
      "['Desire', 'I20', 'Fortuner', 'Pajero']\n",
      "\n",
      "here is the sorted list\n",
      "['Desire', 'Fortuner', 'I20', 'Pajero']\n",
      "\n",
      "here is again the origional list\n",
      "['Desire', 'I20', 'Fortuner', 'Pajero']\n"
     ]
    }
   ],
   "source": [
    "car1=['Desire','I20','Fortuner','Pajero']\n",
    "print(\"here is the OrigionL list\")\n",
    "print(car1)\n",
    "print('\\nhere is the sorted list')\n",
    "print(sorted(car1)) # sorted func. is sort the list only once and sort() is use the list permamently\n",
    "print('\\nhere is again the origional list')\n",
    "print(car1)\n"
   ]
  },
  {
   "cell_type": "code",
   "execution_count": 42,
   "metadata": {},
   "outputs": [
    {
     "data": {
      "text/plain": [
       "['Desire', 'I20', 'Fortuner', 'Pajero']"
      ]
     },
     "execution_count": 42,
     "metadata": {},
     "output_type": "execute_result"
    }
   ],
   "source": [
    "#reverse()\n",
    "car1"
   ]
  },
  {
   "cell_type": "code",
   "execution_count": 45,
   "metadata": {},
   "outputs": [
    {
     "name": "stdout",
     "output_type": "stream",
     "text": [
      "['Pajero', 'Fortuner', 'I20', 'Desire']\n"
     ]
    }
   ],
   "source": [
    "car1.reverse()\n",
    "print(car1)"
   ]
  },
  {
   "cell_type": "code",
   "execution_count": 46,
   "metadata": {},
   "outputs": [
    {
     "data": {
      "text/plain": [
       "['Pajero', 'Fortuner', 'I20', 'Desire']"
      ]
     },
     "execution_count": 46,
     "metadata": {},
     "output_type": "execute_result"
    }
   ],
   "source": [
    "\n",
    "#count the number of itoms in alist\n",
    "car1"
   ]
  },
  {
   "cell_type": "code",
   "execution_count": 51,
   "metadata": {},
   "outputs": [
    {
     "ename": "NameError",
     "evalue": "name 'count' is not defined",
     "output_type": "error",
     "traceback": [
      "\u001b[1;31m---------------------------------------------------------------------------\u001b[0m",
      "\u001b[1;31mNameError\u001b[0m                                 Traceback (most recent call last)",
      "\u001b[1;32m<ipython-input-51-511609d76fe7>\u001b[0m in \u001b[0;36m<module>\u001b[1;34m\u001b[0m\n\u001b[1;32m----> 1\u001b[1;33m \u001b[0mprint\u001b[0m\u001b[1;33m(\u001b[0m\u001b[0mcount\u001b[0m\u001b[1;33m(\u001b[0m\u001b[0mcar1\u001b[0m\u001b[1;33m)\u001b[0m\u001b[1;33m)\u001b[0m\u001b[1;33m\u001b[0m\u001b[1;33m\u001b[0m\u001b[0m\n\u001b[0m",
      "\u001b[1;31mNameError\u001b[0m: name 'count' is not defined"
     ]
    }
   ],
   "source": [
    "print(count(car1))"
   ]
  },
  {
   "cell_type": "code",
   "execution_count": null,
   "metadata": {},
   "outputs": [],
   "source": []
  }
 ],
 "metadata": {
  "kernelspec": {
   "display_name": "Python 3",
   "language": "python",
   "name": "python3"
  },
  "language_info": {
   "codemirror_mode": {
    "name": "ipython",
    "version": 3
   },
   "file_extension": ".py",
   "mimetype": "text/x-python",
   "name": "python",
   "nbconvert_exporter": "python",
   "pygments_lexer": "ipython3",
   "version": "3.7.3"
  }
 },
 "nbformat": 4,
 "nbformat_minor": 2
}
